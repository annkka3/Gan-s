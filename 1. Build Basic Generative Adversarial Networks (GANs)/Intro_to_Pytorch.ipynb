{
  "nbformat": 4,
  "nbformat_minor": 0,
  "metadata": {
    "colab": {
      "provenance": []
    },
    "kernelspec": {
      "name": "python3",
      "display_name": "Python 3"
    },
    "language_info": {
      "name": "python"
    }
  },
  "cells": [
    {
      "cell_type": "markdown",
      "source": [
        "#Intro\n",
        "\n",
        "PyTorch is a very powerful machine learning framework. Central to PyTorch are tensors, a generalization of matrices to higher ranks. One intuitive example of a tensor is an image with three color channels: A 3-channel (red, green, blue) image which is 64 pixels wide and 64 pixels tall is a \n",
        "3\n",
        "×\n",
        "64\n",
        "×\n",
        "64\n",
        " tensor. You can access the PyTorch framework by writing `import torch` near the top of your code, along with all of your other import statements.\n",
        "\n",
        "This guide will help introduce you to the functionality of PyTorch, but don't worry too much about memorizing it: the assignments will link to relevant documentation where necessary."
      ],
      "metadata": {
        "id": "j_SgNAxg79MU"
      }
    },
    {
      "cell_type": "code",
      "source": [
        "import torch"
      ],
      "metadata": {
        "id": "ZxJhyof99uWV"
      },
      "execution_count": 1,
      "outputs": []
    },
    {
      "cell_type": "markdown",
      "source": [
        "# Why PyTorch?\n",
        "\n",
        "One important question worth asking is, why is PyTorch being used for this course? There is a great breakdown by the Gradient looking at the state of machine learning frameworks today. In part, as highlighted by the article, PyTorch is generally more pythonic than alternative frameworks, easier to debug, and is the most-used language in machine learning research by a large and growing margin. While PyTorch's primary alternative, Tensorflow, has attempted to integrate many of PyTorch's features, Tensorflow's implementations come with some inherent limitations highlighted in the article.\n",
        "\n",
        "Notably, while PyTorch's industry usage has grown, Tensorflow is still (for now) a slight favorite in industry. In practice, the features that make PyTorch attractive for research also make it attractive for education, and the general trend of machine learning research and practice to PyTorch makes it the more proactive choice."
      ],
      "metadata": {
        "id": "kpF3mwWo9yAm"
      }
    },
    {
      "cell_type": "markdown",
      "source": [],
      "metadata": {
        "id": "keJNJ7pG-JsO"
      }
    },
    {
      "cell_type": "markdown",
      "source": [
        "# Tensor Properties\n",
        "\n",
        "One way to create tensors from a list or an array is to use `torch`.Tensor. It'll be used to set up examples in this notebook, but you'll never need to use it in the course - in fact, if you find yourself needing it, that's probably not the correct answer."
      ],
      "metadata": {
        "id": "URDKEbt891_g"
      }
    },
    {
      "cell_type": "code",
      "source": [
        "example_tensor = torch.Tensor(\n",
        "    [\n",
        "     [[1, 2], [3, 4]], \n",
        "     [[5, 6], [7, 8]], \n",
        "     [[9, 0], [1, 2]]\n",
        "    ]\n",
        ")"
      ],
      "metadata": {
        "id": "sevPdHmx9-Ij"
      },
      "execution_count": 2,
      "outputs": []
    },
    {
      "cell_type": "markdown",
      "source": [
        "You can view the tensor in the notebook by simple printing it out (though some larger tensors will be cut off)"
      ],
      "metadata": {
        "id": "r0KRzZZY-6px"
      }
    },
    {
      "cell_type": "code",
      "source": [
        "example_tensor"
      ],
      "metadata": {
        "colab": {
          "base_uri": "https://localhost:8080/"
        },
        "id": "bwwzV0Zd93y6",
        "outputId": "e7753737-ec79-49ec-8240-dbffb4533535"
      },
      "execution_count": 3,
      "outputs": [
        {
          "output_type": "execute_result",
          "data": {
            "text/plain": [
              "tensor([[[1., 2.],\n",
              "         [3., 4.]],\n",
              "\n",
              "        [[5., 6.],\n",
              "         [7., 8.]],\n",
              "\n",
              "        [[9., 0.],\n",
              "         [1., 2.]]])"
            ]
          },
          "metadata": {},
          "execution_count": 3
        }
      ]
    },
    {
      "cell_type": "markdown",
      "source": [
        "#Tensor Properties: Device\n",
        "\n",
        "One important property is the device of the tensor - throughout this notebook you'll be sticking to tensors which are on the CPU. However, throughout the course you'll also be using tensors on GPU (that is, a graphics card which will be provided for you to use for the course). To view the device of the tensor, all you need to write is `example_tensor.device`. To move a tensor to a new device, you can `write new_tensor = example_tensor.to(device)` where device will be either `cpu` or `cuda`."
      ],
      "metadata": {
        "id": "zrr8YIN7_MX4"
      }
    },
    {
      "cell_type": "code",
      "source": [
        "example_tensor.device"
      ],
      "metadata": {
        "colab": {
          "base_uri": "https://localhost:8080/"
        },
        "id": "Zeix8k3p_d-6",
        "outputId": "310d431e-95fe-4e89-aa6a-428bfbe5009d"
      },
      "execution_count": 4,
      "outputs": [
        {
          "output_type": "execute_result",
          "data": {
            "text/plain": [
              "device(type='cpu')"
            ]
          },
          "metadata": {},
          "execution_count": 4
        }
      ]
    },
    {
      "cell_type": "markdown",
      "source": [
        "#Tensor Properties: Shape\n",
        "\n",
        "And you can get the number of elements in each dimension by printing out the tensor's shape, using `example_tensor.shape`, something you're likely familiar with if you've used numpy. For example, this tensor is a \n",
        "3\n",
        "×\n",
        "2\n",
        "×\n",
        "2\n",
        " tensor, since it has 3 elements, each of which are \n",
        "2\n",
        "×\n",
        "2\n",
        "."
      ],
      "metadata": {
        "id": "A8ht5WmQ_iTg"
      }
    },
    {
      "cell_type": "code",
      "source": [
        "example_tensor.shape"
      ],
      "metadata": {
        "colab": {
          "base_uri": "https://localhost:8080/"
        },
        "id": "twS_23iX_oVq",
        "outputId": "66708d6a-b03c-4b9d-e0a2-c1b3aa1ac159"
      },
      "execution_count": 5,
      "outputs": [
        {
          "output_type": "execute_result",
          "data": {
            "text/plain": [
              "torch.Size([3, 2, 2])"
            ]
          },
          "metadata": {},
          "execution_count": 5
        }
      ]
    },
    {
      "cell_type": "markdown",
      "source": [
        "You can also get the size of a particular dimension \n",
        "*n*\n",
        " using `example_tensor.shape[n]` or equivalently `example_tensor.size(n)`"
      ],
      "metadata": {
        "id": "9J1QfoFW_0oJ"
      }
    },
    {
      "cell_type": "code",
      "source": [
        "print(\"shape[0] =\", example_tensor.shape[0])\n",
        "print(\"size(1) =\", example_tensor.size(1))"
      ],
      "metadata": {
        "colab": {
          "base_uri": "https://localhost:8080/"
        },
        "id": "6JujL0Oq_4v8",
        "outputId": "9b99db1d-49cf-4892-e0fb-06f6f657a1f9"
      },
      "execution_count": 6,
      "outputs": [
        {
          "output_type": "stream",
          "name": "stdout",
          "text": [
            "shape[0] = 3\n",
            "size(1) = 2\n"
          ]
        }
      ]
    },
    {
      "cell_type": "markdown",
      "source": [
        "Finally, it is sometimes useful to get the number of dimensions (rank) or the number of elements, which you can do as follows"
      ],
      "metadata": {
        "id": "iNQCn6EJAI3l"
      }
    },
    {
      "cell_type": "code",
      "source": [
        "print(\"Rank =\", len(example_tensor.shape))\n",
        "print(\"Number of elements =\", example_tensor.numel())"
      ],
      "metadata": {
        "colab": {
          "base_uri": "https://localhost:8080/"
        },
        "id": "Hl5WHDHhAMlh",
        "outputId": "91d49e48-5464-4ab0-a555-8f05ae785539"
      },
      "execution_count": 7,
      "outputs": [
        {
          "output_type": "stream",
          "name": "stdout",
          "text": [
            "Rank = 3\n",
            "Number of elements = 12\n"
          ]
        }
      ]
    },
    {
      "cell_type": "code",
      "source": [],
      "metadata": {
        "id": "xIg0HvT0_K0o"
      },
      "execution_count": null,
      "outputs": []
    }
  ]
}