{
  "nbformat": 4,
  "nbformat_minor": 0,
  "metadata": {
    "colab": {
      "name": "C2W3_Assignment.ipynb",
      "provenance": [],
      "collapsed_sections": []
    },
    "coursera": {
      "schema_names": [
        "GANSC2-3A"
      ]
    },
    "kernelspec": {
      "display_name": "Python 3",
      "language": "python",
      "name": "python3"
    },
    "language_info": {
      "codemirror_mode": {
        "name": "ipython",
        "version": 3
      },
      "file_extension": ".py",
      "mimetype": "text/x-python",
      "name": "python",
      "nbconvert_exporter": "python",
      "pygments_lexer": "ipython3",
      "version": "3.7.6"
    }
  },
  "cells": [
    {
      "cell_type": "markdown",
      "metadata": {
        "id": "kz7GMf9fruXG"
      },
      "source": [
        "# Components of StyleGAN\n",
        "\n",
        "### Goals\n",
        "In this notebook, you're going to implement various components of StyleGAN, including the truncation trick, the mapping layer, noise injection, adaptive instance normalization (AdaIN), and progressive growing. \n",
        "\n",
        "### Learning Objectives\n",
        "\n",
        "1.   Understand the components of StyleGAN that differ from the traditional GAN.\n",
        "2.   Implement the components of StyleGAN.\n",
        "\n",
        "\n"
      ]
    },
    {
      "cell_type": "markdown",
      "metadata": {
        "id": "oI3mxAyzsexw"
      },
      "source": [
        "## Getting Started\n",
        "You will begin by importing some packages from PyTorch and defining a visualization function which will be useful later."
      ]
    },
    {
      "cell_type": "code",
      "metadata": {
        "id": "L1vT-DFVn252"
      },
      "source": [
        "import torch\n",
        "import torch.nn as nn\n",
        "import torch.nn.functional as F\n",
        "\n",
        "def show_tensor_images(image_tensor, num_images=16, size=(3, 64, 64), nrow=3):\n",
        "    '''\n",
        "    Function for visualizing images: Given a tensor of images, number of images,\n",
        "    size per image, and images per row, plots and prints the images in an uniform grid.\n",
        "    '''\n",
        "    image_tensor = (image_tensor + 1) / 2\n",
        "    image_unflat = image_tensor.detach().cpu().clamp_(0, 1)\n",
        "    image_grid = make_grid(image_unflat[:num_images], nrow=nrow, padding=0)\n",
        "    plt.imshow(image_grid.permute(1, 2, 0).squeeze())\n",
        "    plt.axis('off')\n",
        "    plt.show()"
      ],
      "execution_count": 1,
      "outputs": []
    },
    {
      "cell_type": "markdown",
      "metadata": {
        "id": "k7VE8l7dyo0A"
      },
      "source": [
        "## Truncation Trick\n",
        "The first component you will implement is the truncation trick. Remember that this is done after the model is trained and when you are sampling beautiful outputs. The truncation trick resamples the noise vector $z$ from a truncated normal distribution which allows you to tune the generator's fidelity/diversity. The truncation value is at least 0, where 1 means there is little truncation (high diversity) and 0 means the distribution is all truncated except for the mean (high quality/fidelity). This trick is not exclusive to StyleGAN. In fact, you may recall playing with it in an earlier GAN notebook."
      ]
    },
    {
      "cell_type": "code",
      "metadata": {
        "id": "dPpIAAOjykrQ"
      },
      "source": [
        "# UNQ_C1 (UNIQUE CELL IDENTIFIER, DO NOT EDIT)\n",
        "# GRADED CELL: get_truncated_noise\n",
        "\n",
        "from scipy.stats import truncnorm\n",
        "def get_truncated_noise(n_samples, z_dim, truncation):\n",
        "    '''\n",
        "    Function for creating truncated noise vectors: Given the dimensions (n_samples, z_dim)\n",
        "    and truncation value, creates a tensor of that shape filled with random\n",
        "    numbers from the truncated normal distribution.\n",
        "    Parameters:\n",
        "        n_samples: the number of samples to generate, a scalar\n",
        "        z_dim: the dimension of the noise vector, a scalar\n",
        "        truncation: the truncation value, a non-negative scalar\n",
        "    '''\n",
        "    #### START CODE HERE ####\n",
        "    truncated_noise = truncnorm.rvs(-truncation, truncation, size=(n_samples, z_dim))\n",
        "    #### END CODE HERE ####\n",
        "    return torch.Tensor(truncated_noise)"
      ],
      "execution_count": 2,
      "outputs": []
    },
    {
      "cell_type": "code",
      "metadata": {
        "colab": {
          "base_uri": "https://localhost:8080/"
        },
        "id": "PpdtW2cxp-z7",
        "outputId": "6904a732-3849-4428-b8a4-ea6ad47bab12"
      },
      "source": [
        "# Test the truncation sample\n",
        "assert tuple(get_truncated_noise(n_samples=10, z_dim=5, truncation=0.7).shape) == (10, 5)\n",
        "simple_noise = get_truncated_noise(n_samples=1000, z_dim=10, truncation=0.2)\n",
        "assert simple_noise.max() > 0.199 and simple_noise.max() < 2\n",
        "assert simple_noise.min() < -0.199 and simple_noise.min() > -0.2\n",
        "assert simple_noise.std() > 0.113 and simple_noise.std() < 0.117\n",
        "print(\"Success!\")"
      ],
      "execution_count": 3,
      "outputs": [
        {
          "output_type": "stream",
          "text": [
            "Success!\n"
          ],
          "name": "stdout"
        }
      ]
    },
    {
      "cell_type": "markdown",
      "metadata": {
        "id": "uAtedvsisf1j"
      },
      "source": [
        "## Mapping $z$ → $w$\n",
        "\n",
        "The next component you need to implement is the mapping network. It takes the noise vector, $z$, and maps it to an intermediate noise vector, $w$. This makes it so $z$ can be represented in a more disentangled space which makes the features easier to control later.\n",
        "\n",
        "The mapping network in StyleGAN is composed of 8 layers, but for your implementation, you will use a neural network with 3 layers. This is to save time training later.\n",
        "\n",
        "<details>\n",
        "<summary>\n",
        "<font size=\"3\" color=\"green\">\n",
        "<b>Optional hints for <code><font size=\"4\">MappingLayers</font></code></b>\n",
        "</font>\n",
        "</summary>\n",
        "\n",
        "1.   This code should be five lines.\n",
        "2.   You need 3 linear layers and should use ReLU activations.\n",
        "3.   Your linear layers should be input -> hidden_dim -> hidden_dim -> output.\n",
        "</details>"
      ]
    },
    {
      "cell_type": "code",
      "metadata": {
        "id": "C2XBgopFrsne"
      },
      "source": [
        "# UNQ_C2 (UNIQUE CELL IDENTIFIER, DO NOT EDIT)\n",
        "# GRADED CELL: MappingLayers\n",
        "\n",
        "class MappingLayers(nn.Module):\n",
        "    '''\n",
        "    Mapping Layers Class\n",
        "    Values:\n",
        "        z_dim: the dimension of the noise vector, a scalar\n",
        "        hidden_dim: the inner dimension, a scalar\n",
        "        w_dim: the dimension of the intermediate noise vector, a scalar\n",
        "    '''\n",
        " \n",
        "    def __init__(self, z_dim, hidden_dim, w_dim):\n",
        "        super().__init__()\n",
        "        self.mapping = nn.Sequential(\n",
        "            # Please write a neural network which takes in tensors of \n",
        "            # shape (n_samples, z_dim) and outputs (n_samples, w_dim)\n",
        "            # with a hidden layer with hidden_dim neurons\n",
        "            #### START CODE HERE ####\n",
        "            nn.Linear(z_dim, hidden_dim),\n",
        "            nn.ReLU(),\n",
        "            nn.Linear(hidden_dim, hidden_dim),\n",
        "            nn.ReLU(),\n",
        "            nn.Linear(hidden_dim, w_dim)\n",
        "            #### END CODE HERE ####\n",
        "        )\n",
        "\n",
        "    def forward(self, noise):\n",
        "        '''\n",
        "        Function for completing a forward pass of MappingLayers: \n",
        "        Given an initial noise tensor, returns the intermediate noise tensor.\n",
        "        Parameters:\n",
        "            noise: a noise tensor with dimensions (n_samples, z_dim)\n",
        "        '''\n",
        "        return self.mapping(noise)\n",
        "    \n",
        "    #UNIT TEST COMMENT: Required for grading\n",
        "    def get_mapping(self):\n",
        "        return self.mapping"
      ],
      "execution_count": 4,
      "outputs": []
    },
    {
      "cell_type": "code",
      "metadata": {
        "colab": {
          "base_uri": "https://localhost:8080/"
        },
        "id": "68W1aD-P0_vP",
        "outputId": "ca88daa5-b5c7-4220-de20-ca74114076a6"
      },
      "source": [
        "# Test the mapping function\n",
        "map_fn = MappingLayers(10,20,30)\n",
        "assert tuple(map_fn(torch.randn(2, 10)).shape) == (2, 30)\n",
        "assert len(map_fn.mapping) > 4\n",
        "outputs = map_fn(torch.randn(1000, 10))\n",
        "assert outputs.std() > 0.05 and outputs.std() < 0.3\n",
        "assert outputs.min() > -2 and outputs.min() < 0\n",
        "assert outputs.max() < 2 and outputs.max() > 0\n",
        "layers = [str(x).replace(' ', '').replace('inplace=True', '') for x in map_fn.get_mapping()]\n",
        "assert layers == ['Linear(in_features=10,out_features=20,bias=True)', \n",
        "                  'ReLU()', \n",
        "                  'Linear(in_features=20,out_features=20,bias=True)', \n",
        "                  'ReLU()', \n",
        "                  'Linear(in_features=20,out_features=30,bias=True)']\n",
        "print(\"Success!\")"
      ],
      "execution_count": 5,
      "outputs": [
        {
          "output_type": "stream",
          "text": [
            "Success!\n"
          ],
          "name": "stdout"
        }
      ]
    },
    {
      "cell_type": "markdown",
      "metadata": {
        "id": "nfMvkudy1y9O"
      },
      "source": [
        "## Random Noise Injection\n",
        "Next, you will implement the random noise injection that occurs before every AdaIN block. To do this, you need to create a noise tensor that is the same size as the current feature map (image).\n",
        "\n",
        "The noise tensor is not entirely random; it is initialized as one random channel that is then multiplied by learned weights for each channel in the image. For example, imagine an image has 512 channels and its height and width are (4 x 4). You would first create a random (4 x 4) noise matrix with one channel. Then, your model would create 512 values—one for each channel. Next, you multiply the (4 x 4) matrix by each one of these values. This creates a \"random\" tensor of 512 channels and (4 x 4) pixels, the same dimensions as the image. Finally, you add this noise tensor to the image. This introduces uncorrelated noise and is meant to increase the diversity in the image.\n",
        "\n",
        "New starting weights are generated for every new layer, or generator, where this class is used. Within a layer, every following time the noise injection is called, you take another step with the optimizer and the weights that you use for each channel are optimized (i.e. learned).\n",
        "\n",
        "<details>\n",
        "\n",
        "<summary>\n",
        "<font size=\"3\" color=\"green\">\n",
        "<b>Optional hint for <code><font size=\"4\">InjectNoise</font></code></b>\n",
        "</font>\n",
        "</summary>\n",
        "\n",
        "1.   The weight should have the shape (1, channels, 1, 1).\n",
        "</details>\n",
        "\n",
        "<!-- <details>\n",
        "\n",
        "<summary>\n",
        "<font size=\"3\" color=\"green\">\n",
        "<b>Optional hint for <code><font size=\"4\">InjectNoise</font></code></b>\n",
        "</font>\n",
        "</summary>\n",
        "\n",
        "1.   Remember that you only make the noise for one channel (it is then multiplied by random values to create ones for the other channels).\n",
        "</details> -->\n",
        "\n",
        "<!-- (not sure how??) You'll find the get_noise function from before helpful here -->"
      ]
    },
    {
      "cell_type": "code",
      "metadata": {
        "id": "biLJxq3P11qY"
      },
      "source": [
        "# UNQ_C3 (UNIQUE CELL IDENTIFIER, DO NOT EDIT)\n",
        "# GRADED CELL: InjectNoise\n",
        "\n",
        "class InjectNoise(nn.Module):\n",
        "    '''\n",
        "    Inject Noise Class\n",
        "    Values:\n",
        "        channels: the number of channels the image has, a scalar\n",
        "    '''\n",
        "    def __init__(self, channels):\n",
        "        super().__init__()\n",
        "        self.weight = nn.Parameter( # You use nn.Parameter so that these weights can be optimized\n",
        "            # Initiate the weights for the channels from a random normal distribution\n",
        "            #### START CODE HERE ####\n",
        "            torch.randn(1, channels, 1, 1)\n",
        "            #### END CODE HERE ####\n",
        "        )\n",
        "\n",
        "    def forward(self, image):\n",
        "        '''\n",
        "        Function for completing a forward pass of InjectNoise: Given an image, \n",
        "        returns the image with random noise added.\n",
        "        Parameters:\n",
        "            image: the feature map of shape (n_samples, channels, width, height)\n",
        "        '''\n",
        "        # Set the appropriate shape for the noise!\n",
        "        \n",
        "        #### START CODE HERE ####\n",
        "        noise_shape = (image.shape[0], 1, image.shape[2], image.shape[3])\n",
        "        #### END CODE HERE ####\n",
        "        \n",
        "        noise = torch.randn(noise_shape, device=image.device) # Creates the random noise\n",
        "        return image + self.weight * noise # Applies to image after multiplying by the weight for each channel\n",
        "    \n",
        "    #UNIT TEST COMMENT: Required for grading\n",
        "    def get_weight(self):\n",
        "        return self.weight\n",
        "    \n",
        "    #UNIT TEST COMMENT: Required for grading\n",
        "    def get_self(self):\n",
        "        return self\n",
        "    "
      ],
      "execution_count": 6,
      "outputs": []
    },
    {
      "cell_type": "code",
      "metadata": {
        "colab": {
          "base_uri": "https://localhost:8080/"
        },
        "id": "zO1v6hos_Od0",
        "outputId": "072ec391-24e1-43da-8c81-a4d9df819843"
      },
      "source": [
        "# UNIT TEST\n",
        "test_noise_channels = 3000\n",
        "test_noise_samples = 20\n",
        "fake_images = torch.randn(test_noise_samples, test_noise_channels, 10, 10)\n",
        "inject_noise = InjectNoise(test_noise_channels)\n",
        "assert torch.abs(inject_noise.weight.std() - 1) < 0.1\n",
        "assert torch.abs(inject_noise.weight.mean()) < 0.1\n",
        "assert type(inject_noise.get_weight()) == torch.nn.parameter.Parameter\n",
        "\n",
        "assert tuple(inject_noise.weight.shape) == (1, test_noise_channels, 1, 1)\n",
        "inject_noise.weight = nn.Parameter(torch.ones_like(inject_noise.weight))\n",
        "# Check that something changed\n",
        "assert torch.abs((inject_noise(fake_images) - fake_images)).mean() > 0.1\n",
        "# Check that the change is per-channel\n",
        "assert torch.abs((inject_noise(fake_images) - fake_images).std(0)).mean() > 1e-4\n",
        "assert torch.abs((inject_noise(fake_images) - fake_images).std(1)).mean() < 1e-4\n",
        "assert torch.abs((inject_noise(fake_images) - fake_images).std(2)).mean() > 1e-4\n",
        "assert torch.abs((inject_noise(fake_images) - fake_images).std(3)).mean() > 1e-4\n",
        "# Check that the per-channel change is roughly normal\n",
        "per_channel_change = (inject_noise(fake_images) - fake_images).mean(1).std()\n",
        "assert per_channel_change > 0.9 and per_channel_change < 1.1\n",
        "# Make sure that the weights are being used at all\n",
        "inject_noise.weight = nn.Parameter(torch.zeros_like(inject_noise.weight))\n",
        "assert torch.abs((inject_noise(fake_images) - fake_images)).mean() < 1e-4\n",
        "assert len(inject_noise.weight.shape) == 4\n",
        "print(\"Success!\")"
      ],
      "execution_count": 7,
      "outputs": [
        {
          "output_type": "stream",
          "text": [
            "Success!\n"
          ],
          "name": "stdout"
        }
      ]
    },
    {
      "cell_type": "markdown",
      "metadata": {
        "id": "xTGkpHwrsqay"
      },
      "source": [
        "## Adaptive Instance Normalization (AdaIN)\n",
        "The next component you will implement is AdaIN. To increase control over the image, you inject $w$ — the intermediate noise vector — multiple times throughout StyleGAN. This is done by transforming it into a set of style parameters and introducing the style to the image through AdaIN. Given an image ($x_i$) and the intermediate vector ($w$), AdaIN takes the instance normalization of the image and multiplies it by the style scale ($y_s$) and adds the style bias ($y_b$). You need to calculate the learnable style scale and bias by using linear mappings from $w$.\n",
        "\n",
        "# $ \\text{AdaIN}(\\boldsymbol{\\mathrm{x}}_i, \\boldsymbol{\\mathrm{y}}) = \\boldsymbol{\\mathrm{y}}_{s,i} \\frac{\\boldsymbol{\\mathrm{x}}_i - \\mu(\\boldsymbol{\\mathrm{x}}_i)}{\\sigma(\\boldsymbol{\\mathrm{x}}_i)} + \\boldsymbol{\\mathrm{y}}_{b,i} $\n",
        "\n",
        "<details>\n",
        "\n",
        "<summary>\n",
        "<font size=\"3\" color=\"green\">\n",
        "<b>Optional hints for <code><font size=\"4\">forward</font></code></b>\n",
        "</font>\n",
        "</summary>\n",
        "\n",
        "1.   Remember the equation for AdaIN.\n",
        "2.   The instance normalized image, style scale, and style shift have already been calculated for you.\n",
        "</details>"
      ]
    },
    {
      "cell_type": "code",
      "metadata": {
        "id": "aDyqXHUvsp1G"
      },
      "source": [
        "# UNQ_C4 (UNIQUE CELL IDENTIFIER, DO NOT EDIT)\n",
        "# GRADED CELL: AdaIN\n",
        "\n",
        "class AdaIN(nn.Module):\n",
        "    '''\n",
        "    AdaIN Class\n",
        "    Values:\n",
        "        channels: the number of channels the image has, a scalar\n",
        "        w_dim: the dimension of the intermediate noise vector, a scalar\n",
        "    '''\n",
        "\n",
        "    def __init__(self, channels, w_dim):\n",
        "        super().__init__()\n",
        "\n",
        "        # Normalize the input per-dimension\n",
        "        self.instance_norm = nn.InstanceNorm2d(channels)\n",
        "\n",
        "        # You want to map w to a set of style weights per channel.\n",
        "        # Replace the Nones with the correct dimensions - keep in mind that \n",
        "        # both linear maps transform a w vector into style weights \n",
        "        # corresponding to the number of image channels.\n",
        "        #### START CODE HERE ####\n",
        "        self.style_scale_transform = nn.Linear(w_dim, channels)\n",
        "        self.style_shift_transform = nn.Linear(w_dim, channels)\n",
        "        #### END CODE HERE ####\n",
        "\n",
        "    def forward(self, image, w):\n",
        "        '''\n",
        "        Function for completing a forward pass of AdaIN: Given an image and intermediate noise vector w, \n",
        "        returns the normalized image that has been scaled and shifted by the style.\n",
        "        Parameters:\n",
        "            image: the feature map of shape (n_samples, channels, width, height)\n",
        "            w: the intermediate noise vector\n",
        "        '''\n",
        "        normalized_image = self.instance_norm(image)\n",
        "        style_scale = self.style_scale_transform(w)[:, :, None, None]\n",
        "        style_shift = self.style_shift_transform(w)[:, :, None, None]\n",
        "        \n",
        "        # Calculate the transformed image\n",
        "        #### START CODE HERE ####\n",
        "        transformed_image = style_scale * normalized_image + style_shift\n",
        "        #### END CODE HERE ####\n",
        "        return transformed_image\n",
        "    \n",
        "    #UNIT TEST COMMENT: Required for grading\n",
        "    def get_style_scale_transform(self):\n",
        "        return self.style_scale_transform\n",
        "    \n",
        "    #UNIT TEST COMMENT: Required for grading\n",
        "    def get_style_shift_transform(self):\n",
        "        return self.style_shift_transform\n",
        "    \n",
        "    #UNIT TEST COMMENT: Required for grading\n",
        "    def get_self(self):\n",
        "        return self \n"
      ],
      "execution_count": 8,
      "outputs": []
    },
    {
      "cell_type": "code",
      "metadata": {
        "colab": {
          "base_uri": "https://localhost:8080/"
        },
        "id": "ljePdqZq4m3p",
        "outputId": "4a824db2-7885-4349-d3f7-970206cea29d"
      },
      "source": [
        "w_channels = 50\n",
        "image_channels = 20\n",
        "image_size = 30\n",
        "n_test = 10\n",
        "adain = AdaIN(image_channels, w_channels)\n",
        "test_w = torch.randn(n_test, w_channels)\n",
        "assert adain.style_scale_transform(test_w).shape == adain.style_shift_transform(test_w).shape\n",
        "assert adain.style_scale_transform(test_w).shape[-1] == image_channels\n",
        "assert tuple(adain(torch.randn(n_test, image_channels, image_size, image_size), test_w).shape) == (n_test, image_channels, image_size, image_size)\n",
        "\n",
        "w_channels = 3\n",
        "image_channels = 2\n",
        "image_size = 3\n",
        "n_test = 1\n",
        "adain = AdaIN(image_channels, w_channels)\n",
        "\n",
        "adain.style_scale_transform.weight.data = torch.ones_like(adain.style_scale_transform.weight.data) / 4\n",
        "adain.style_scale_transform.bias.data = torch.zeros_like(adain.style_scale_transform.bias.data)\n",
        "adain.style_shift_transform.weight.data = torch.ones_like(adain.style_shift_transform.weight.data) / 5\n",
        "adain.style_shift_transform.bias.data = torch.zeros_like(adain.style_shift_transform.bias.data)\n",
        "test_input = torch.ones(n_test, image_channels, image_size, image_size)\n",
        "test_input[:, :, 0] = 0\n",
        "test_w = torch.ones(n_test, w_channels)\n",
        "test_output = adain(test_input, test_w)\n",
        "assert(torch.abs(test_output[0, 0, 0, 0] - 3 / 5 + torch.sqrt(torch.tensor(9 / 8))) < 1e-4)\n",
        "assert(torch.abs(test_output[0, 0, 1, 0] - 3 / 5 - torch.sqrt(torch.tensor(9 / 32))) < 1e-4)\n",
        "print(\"Success!\")"
      ],
      "execution_count": 9,
      "outputs": [
        {
          "output_type": "stream",
          "text": [
            "Success!\n"
          ],
          "name": "stdout"
        }
      ]
    },
    {
      "cell_type": "markdown",
      "metadata": {
        "id": "_KnN184yI4AB"
      },
      "source": [
        "## Progressive Growing in StyleGAN\n",
        "The final StyleGAN component that you will create is progressive growing. This helps StyleGAN to create high resolution images by gradually doubling the image's size until the desired size.\n",
        "\n",
        "You will start by creating a block for the StyleGAN generator. This is comprised of an upsampling layer, a convolutional layer, random noise injection, an AdaIN layer, and an activation."
      ]
    },
    {
      "cell_type": "code",
      "metadata": {
        "id": "xnFh67WVrr2G"
      },
      "source": [
        "# UNQ_C5 (UNIQUE CELL IDENTIFIER, DO NOT EDIT)\n",
        "# GRADED CELL: MicroStyleGANGeneratorBlock\n",
        "\n",
        "class MicroStyleGANGeneratorBlock(nn.Module):\n",
        "    '''\n",
        "    Micro StyleGAN Generator Block Class\n",
        "    Values:\n",
        "        in_chan: the number of channels in the input, a scalar\n",
        "        out_chan: the number of channels wanted in the output, a scalar\n",
        "        w_dim: the dimension of the intermediate noise vector, a scalar\n",
        "        kernel_size: the size of the convolving kernel\n",
        "        starting_size: the size of the starting image\n",
        "    '''\n",
        "\n",
        "    def __init__(self, in_chan, out_chan, w_dim, kernel_size, starting_size, use_upsample=True):\n",
        "        super().__init__()\n",
        "        self.use_upsample = use_upsample\n",
        "        # Replace the Nones in order to:\n",
        "        # 1. Upsample to the starting_size, bilinearly (https://pytorch.org/docs/master/generated/torch.nn.Upsample.html)\n",
        "        # 2. Create a kernel_size convolution which takes in \n",
        "        #    an image with in_chan and outputs one with out_chan (https://pytorch.org/docs/stable/generated/torch.nn.Conv2d.html)\n",
        "        # 3. Create an object to inject noise\n",
        "        # 4. Create an AdaIN object\n",
        "        # 5. Create a LeakyReLU activation with slope 0.2\n",
        "        \n",
        "        #### START CODE HERE ####\n",
        "        if self.use_upsample:\n",
        "            self.upsample = nn.Upsample((starting_size, starting_size), mode='bilinear')\n",
        "        self.conv = nn.Conv2d(in_chan, out_chan, kernel_size, padding=1) # Padding is used to maintain the image size\n",
        "        self.inject_noise = InjectNoise(out_chan)\n",
        "        self.adain = AdaIN(out_chan, w_dim)\n",
        "        self.activation = nn.LeakyReLU(0.2)\n",
        "        #### END CODE HERE ####\n",
        "\n",
        "    def forward(self, x, w):\n",
        "        '''\n",
        "        Function for completing a forward pass of MicroStyleGANGeneratorBlock: Given an x and w, \n",
        "        computes a StyleGAN generator block.\n",
        "        Parameters:\n",
        "            x: the input into the generator, feature map of shape (n_samples, channels, width, height)\n",
        "            w: the intermediate noise vector\n",
        "        '''\n",
        "        if self.use_upsample:\n",
        "            x = self.upsample(x)\n",
        "        x = self.conv(x)\n",
        "        x = self.inject_noise(x)\n",
        "        x = self.activation(x)\n",
        "        x = self.adain(x, w)\n",
        "        return x\n",
        "    \n",
        "    #UNIT TEST COMMENT: Required for grading\n",
        "    def get_self(self):\n",
        "        return self;"
      ],
      "execution_count": 10,
      "outputs": []
    },
    {
      "cell_type": "code",
      "metadata": {
        "colab": {
          "base_uri": "https://localhost:8080/"
        },
        "id": "-cP1FDPz_C9K",
        "outputId": "ded536f2-720b-4365-fd4c-19f22285add8"
      },
      "source": [
        "test_stylegan_block = MicroStyleGANGeneratorBlock(in_chan=128, out_chan=64, w_dim=256, kernel_size=3, starting_size=8)\n",
        "test_x = torch.ones(1, 128, 4, 4)\n",
        "test_x[:, :, 1:3, 1:3] = 0\n",
        "test_w = torch.ones(1, 256)\n",
        "test_x = test_stylegan_block.upsample(test_x)\n",
        "assert tuple(test_x.shape) == (1, 128, 8, 8)\n",
        "assert torch.abs(test_x.mean() - 0.75) < 1e-4\n",
        "test_x = test_stylegan_block.conv(test_x)\n",
        "assert tuple(test_x.shape) == (1, 64, 8, 8)\n",
        "test_x = test_stylegan_block.inject_noise(test_x)\n",
        "test_x = test_stylegan_block.activation(test_x)\n",
        "assert test_x.min() < 0\n",
        "assert -test_x.min() / test_x.max() < 0.4\n",
        "test_x = test_stylegan_block.adain(test_x, test_w) \n",
        "foo = test_stylegan_block(torch.ones(10, 128, 4, 4), torch.ones(10, 256))\n",
        "\n",
        "print(\"Success!\")"
      ],
      "execution_count": 11,
      "outputs": [
        {
          "output_type": "stream",
          "text": [
            "Success!\n"
          ],
          "name": "stdout"
        },
        {
          "output_type": "stream",
          "text": [
            "/usr/local/lib/python3.6/dist-packages/torch/nn/functional.py:3063: UserWarning: Default upsampling behavior when mode=bilinear is changed to align_corners=False since 0.4.0. Please specify align_corners=True if the old behavior is desired. See the documentation of nn.Upsample for details.\n",
            "  \"See the documentation of nn.Upsample for details.\".format(mode))\n"
          ],
          "name": "stderr"
        }
      ]
    },
    {
      "cell_type": "markdown",
      "metadata": {
        "id": "FxgtRyMWrqTA"
      },
      "source": [
        "Now, you can implement progressive growing. \n",
        "\n",
        "StyleGAN starts with a constant 4 x 4 (x 512 channel) tensor which is put through an iteration of the generator without upsampling. The output is some noise that can then be transformed into a blurry 4 x 4 image. This is where the progressive growing process begins. The 4 x 4 noise can be further passed through a generator block with upsampling to produce an 8 x 8 output. However, this will be done gradually.\n",
        "\n",
        "You will simulate progressive growing from an 8 x 8 image to a 16 x 16 image. Instead of simply passing it to the generator block with upsampling, StyleGAN gradually trains the generator to the new size by mixing in an image that was only upsampled. By mixing an upsampled 8 x 8 image (which is 16 x 16) with increasingly more of the 16 x 16 generator output, the generator is more stable as it progressively trains. As such, you will do two separate operations with the 8 x 8 noise:\n",
        "\n",
        "1.   Pass it into the next generator block to create an output noise, that you will then transform to an image.\n",
        "2.   Transform it into an image and then upsample it to be 16 x 16.\n",
        "\n",
        "You will now have two images that are both double the resolution of the 8 x 8 noise. Then, using an alpha ($\\alpha$) term, you combine the higher resolution images obtained from (1) and (2). You would then pass this into the discriminator and use the feedback to update the weights of your generator. The key here is that the $\\alpha$ term is gradually increased until eventually, only the image from (1), the generator, is used. That is your final image or you could continue this process to make a 32 x 32 image or 64 x 64, 128 x 128, etc. \n",
        "\n",
        "This micro model you will implement will visualize what the model outputs at a particular stage of training, for a specific value of $\\alpha$. However to reiterate, in practice, StyleGAN will slowly phase out the upsampled image by increasing the $\\alpha$ parameter over many training steps, doing this process repeatedly with larger and larger alpha values until it is 1—at this point, the combined image is solely comprised of the image from the generator block. This method of gradually training the generator increases the stability and fidelity of the model.\n",
        "\n",
        "<!-- by passing a random noise vector in $z$ through the mapping function you wrote to get $w$. $w$ is then passed through the first block of the generator to create your first output noise. -->\n",
        "\n",
        "<details>\n",
        "\n",
        "<summary>\n",
        "<font size=\"3\" color=\"green\">\n",
        "<b>Optional hint for <code><font size=\"4\">forward</font></code></b>\n",
        "</font>\n",
        "</summary>\n",
        "\n",
        "1.    You may find [torch.lerp](https://pytorch.org/docs/stable/generated/torch.lerp.html) helpful.\n",
        "\n",
        "</details>"
      ]
    },
    {
      "cell_type": "code",
      "metadata": {
        "id": "M9RTS6nTI2kf"
      },
      "source": [
        "# UNQ_C6 (UNIQUE CELL IDENTIFIER, DO NOT EDIT)\n",
        "# GRADED CELL: MicroStyleGANGenerator\n",
        "\n",
        "class MicroStyleGANGenerator(nn.Module):\n",
        "    '''\n",
        "    Micro StyleGAN Generator Class\n",
        "    Values:\n",
        "        z_dim: the dimension of the noise vector, a scalar\n",
        "        map_hidden_dim: the mapping inner dimension, a scalar\n",
        "        w_dim: the dimension of the intermediate noise vector, a scalar\n",
        "        in_chan: the dimension of the constant input, usually w_dim, a scalar\n",
        "        out_chan: the number of channels wanted in the output, a scalar\n",
        "        kernel_size: the size of the convolving kernel\n",
        "        hidden_chan: the inner dimension, a scalar\n",
        "    '''\n",
        "\n",
        "    def __init__(self, \n",
        "                 z_dim, \n",
        "                 map_hidden_dim,\n",
        "                 w_dim,\n",
        "                 in_chan,\n",
        "                 out_chan, \n",
        "                 kernel_size, \n",
        "                 hidden_chan):\n",
        "        super().__init__()\n",
        "        self.map = MappingLayers(z_dim, map_hidden_dim, w_dim)\n",
        "        # Typically this constant is initiated to all ones, but you will initiate to a\n",
        "        # Gaussian to better visualize the network's effect\n",
        "        self.starting_constant = nn.Parameter(torch.randn(1, in_chan, 4, 4))\n",
        "        self.block0 = MicroStyleGANGeneratorBlock(in_chan, hidden_chan, w_dim, kernel_size, 4, use_upsample=False)\n",
        "        self.block1 = MicroStyleGANGeneratorBlock(hidden_chan, hidden_chan, w_dim, kernel_size, 8)\n",
        "        self.block2 = MicroStyleGANGeneratorBlock(hidden_chan, hidden_chan, w_dim, kernel_size, 16)\n",
        "        # You need to have a way of mapping from the output noise to an image, \n",
        "        # so you learn a 1x1 convolution to transform the e.g. 512 channels into 3 channels\n",
        "        # (Note that this is simplified, with clipping used in the real StyleGAN)\n",
        "        self.block1_to_image = nn.Conv2d(hidden_chan, out_chan, kernel_size=1)\n",
        "        self.block2_to_image = nn.Conv2d(hidden_chan, out_chan, kernel_size=1)\n",
        "        self.alpha = 0.2\n",
        "\n",
        "    def upsample_to_match_size(self, smaller_image, bigger_image):\n",
        "        '''\n",
        "        Function for upsampling an image to the size of another: Given a two images (smaller and bigger), \n",
        "        upsamples the first to have the same dimensions as the second.\n",
        "        Parameters:\n",
        "            smaller_image: the smaller image to upsample\n",
        "            bigger_image: the bigger image whose dimensions will be upsampled to\n",
        "        '''\n",
        "        return F.interpolate(smaller_image, size=bigger_image.shape[-2:], mode='bilinear')\n",
        "\n",
        "    def forward(self, noise, return_intermediate=False):\n",
        "        '''\n",
        "        Function for completing a forward pass of MicroStyleGANGenerator: Given noise, \n",
        "        computes a StyleGAN iteration.\n",
        "        Parameters:\n",
        "            noise: a noise tensor with dimensions (n_samples, z_dim)\n",
        "            return_intermediate: a boolean, true to return the images as well (for testing) and false otherwise\n",
        "        '''\n",
        "        x = self.starting_constant\n",
        "        w = self.map(noise)\n",
        "        x = self.block0(x, w)\n",
        "        x_small = self.block1(x, w) # First generator run output\n",
        "        x_small_image = self.block1_to_image(x_small)\n",
        "        x_big = self.block2(x_small, w) # Second generator run output \n",
        "        x_big_image = self.block2_to_image(x_big)\n",
        "        x_small_upsample = self.upsample_to_match_size(x_small_image, x_big_image) # Upsample first generator run output to be same size as second generator run output \n",
        "        # Interpolate between the upsampled image and the image from the generator using alpha\n",
        "        \n",
        "        #### START CODE HERE ####\n",
        "        interpolation = torch.lerp(x_small_upsample, x_big_image, self.alpha)\n",
        "        #### END CODE HERE #### \n",
        "        \n",
        "        if return_intermediate:\n",
        "            return interpolation, x_small_upsample, x_big_image\n",
        "        return interpolation\n",
        "    \n",
        "    #UNIT TEST COMMENT: Required for grading\n",
        "    def get_self(self):\n",
        "        return self;"
      ],
      "execution_count": 12,
      "outputs": []
    },
    {
      "cell_type": "code",
      "metadata": {
        "colab": {
          "base_uri": "https://localhost:8080/"
        },
        "id": "bWHCOPJWkYm2",
        "outputId": "9e4fcb5f-bdaf-40c1-f211-17db7094a499"
      },
      "source": [
        "z_dim = 128\n",
        "out_chan = 3\n",
        "truncation = 0.7\n",
        "\n",
        "mu_stylegan = MicroStyleGANGenerator(\n",
        "    z_dim=z_dim, \n",
        "    map_hidden_dim=1024,\n",
        "    w_dim=496,\n",
        "    in_chan=512,\n",
        "    out_chan=out_chan, \n",
        "    kernel_size=3, \n",
        "    hidden_chan=256\n",
        ")\n",
        "\n",
        "test_samples = 10\n",
        "test_result = mu_stylegan(get_truncated_noise(test_samples, z_dim, truncation))\n",
        "\n",
        "# Check if the block works\n",
        "assert tuple(test_result.shape) == (test_samples, out_chan, 16, 16)\n",
        "\n",
        "# Check that the interpolation is correct\n",
        "mu_stylegan.alpha = 1.\n",
        "test_result, _, test_big =  mu_stylegan(\n",
        "    get_truncated_noise(test_samples, z_dim, truncation), \n",
        "    return_intermediate=True)\n",
        "assert torch.abs(test_result - test_big).mean() < 0.001\n",
        "mu_stylegan.alpha = 0.\n",
        "test_result, test_small, _ =  mu_stylegan(\n",
        "    get_truncated_noise(test_samples, z_dim, truncation), \n",
        "    return_intermediate=True)\n",
        "assert torch.abs(test_result - test_small).mean() < 0.001\n",
        "print(\"Success!\")"
      ],
      "execution_count": 13,
      "outputs": [
        {
          "output_type": "stream",
          "text": [
            "/usr/local/lib/python3.6/dist-packages/torch/nn/functional.py:3063: UserWarning: Default upsampling behavior when mode=bilinear is changed to align_corners=False since 0.4.0. Please specify align_corners=True if the old behavior is desired. See the documentation of nn.Upsample for details.\n",
            "  \"See the documentation of nn.Upsample for details.\".format(mode))\n"
          ],
          "name": "stderr"
        },
        {
          "output_type": "stream",
          "text": [
            "Success!\n"
          ],
          "name": "stdout"
        }
      ]
    },
    {
      "cell_type": "markdown",
      "metadata": {
        "id": "nXXdZdOAkavj"
      },
      "source": [
        "## Running StyleGAN\n",
        "Finally, you can put all the components together to run an iteration of your micro StyleGAN!\n",
        "\n",
        "You can also visualize what this randomly initiated generator can produce. The code will automatically interpolate between different values of alpha so that you can intuitively see what it means to mix the low-resolution and high-resolution images using different values of alpha. In the generated image, the samples start from low alpha values and go to high alpha values."
      ]
    },
    {
      "cell_type": "code",
      "metadata": {
        "colab": {
          "base_uri": "https://localhost:8080/",
          "height": 502
        },
        "id": "xmfdB47xNWvf",
        "outputId": "decd4455-04aa-4ce9-f572-7cadbce63957"
      },
      "source": [
        "import numpy as np\n",
        "from torchvision.utils import make_grid\n",
        "import matplotlib.pyplot as plt\n",
        "plt.rcParams['figure.figsize'] = [15, 15]\n",
        "\n",
        "viz_samples = 10\n",
        "# The noise is exaggerated for visual effect\n",
        "viz_noise = get_truncated_noise(viz_samples, z_dim, truncation) * 10\n",
        "\n",
        "mu_stylegan.eval()\n",
        "images = []\n",
        "for alpha in np.linspace(0, 1, num=5):\n",
        "    mu_stylegan.alpha = alpha\n",
        "    viz_result, _, _ =  mu_stylegan(\n",
        "        viz_noise, \n",
        "        return_intermediate=True)\n",
        "    images += [tensor for tensor in viz_result]\n",
        "show_tensor_images(torch.stack(images), nrow=viz_samples, num_images=len(images))\n",
        "mu_stylegan = mu_stylegan.train()"
      ],
      "execution_count": 14,
      "outputs": [
        {
          "output_type": "stream",
          "text": [
            "/usr/local/lib/python3.6/dist-packages/torch/nn/functional.py:3063: UserWarning: Default upsampling behavior when mode=bilinear is changed to align_corners=False since 0.4.0. Please specify align_corners=True if the old behavior is desired. See the documentation of nn.Upsample for details.\n",
            "  \"See the documentation of nn.Upsample for details.\".format(mode))\n"
          ],
          "name": "stderr"
        },
        {
          "output_type": "display_data",
          "data": {
            "image/png": "[encoded data removed]",
            "text/plain": [
              "<Figure size 1080x1080 with 1 Axes>"
            ]
          },
          "metadata": {
            "tags": [],
            "needs_background": "light"
          }
        }
      ]
    },
    {
      "cell_type": "code",
      "metadata": {
        "id": "_uBSbFf2qYNj"
      },
      "source": [
        ""
      ],
      "execution_count": 14,
      "outputs": []
    }
  ]
}